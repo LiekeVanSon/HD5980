{
 "cells": [
  {
   "cell_type": "markdown",
   "id": "65285cb8",
   "metadata": {},
   "source": [
    "#  Calculating the synchronization timescale t_sync at ZAMS\n",
    "\n",
    "In this notebook, we test if the synchronization timescale is short relative to the mainsequence timescale for our best fitting model"
   ]
  },
  {
   "cell_type": "code",
   "execution_count": 216,
   "id": "0b28613d",
   "metadata": {},
   "outputs": [],
   "source": [
    "import numpy as np\n",
    "import matplotlib.pyplot as plt\n",
    "import os\n",
    "\n",
    "import astropy.units as u\n",
    "import astropy.constants as const\n",
    "import mesaPlot as mp\n",
    "\n",
    "home_dir = os.path.expanduser(\"~\")\n",
    "data_root_dir    = home_dir + '/ceph/ksharpe/results/' #'/ceph/MESAoutput/ksharpe_proj/'\n",
    "inlist_dirs = ['dense_mass_hastings_grid', 'dens_mass_grid_run' 'dense_mass_div3winds_grid',  'CHE_x3winds']\n",
    "\n",
    "def Kepler(m1 = 1*u.Msun, m2 = 1*u.Msun, P = 1*u.day):\n",
    "    m1 = m1.to(u.kg)\n",
    "    m2 = m2.to(u.kg)\n",
    "    P = P.to(u.s)\n",
    "    a = (const.G * (m1 + m2) * (P**2/4*np.pi**2) )**(1/3)\n",
    "    return a.to(u.Rsun)\n"
   ]
  },
  {
   "cell_type": "markdown",
   "metadata": {},
   "source": [
    "## Import necessary model data \n",
    "for t_sync calculations from models, save as separate table"
   ]
  },
  {
   "cell_type": "code",
   "execution_count": 219,
   "metadata": {},
   "outputs": [
    {
     "name": "stdout",
     "output_type": "stream",
     "text": [
      "('model_number', 'star_age', 'star_mass', 'star_mdot', 'log_dt', 'log_total_angular_momentum', 'he_core_mass', 'log_Teff', 'log_L', 'log_R', 'surf_avg_v_rot', 'surf_avg_v_crit', 'surf_avg_Lrad_div_Ledd', 'rotational_mdot_boost', 'center_h1', 'center_he4', 'center_c12', 'surface_h1', 'surface_he4', 'surface_c12', 'surface_n14', 'surface_o16', 'surface_ne20', 'surface_mg24', 'model_number.1', 'age', 'period_days', 'rl_1', 'rl_2', 'lg_wind_mdot_1', 'J_orb', 'J_spin_1', 'Jdot')\n",
      "ZAMS age = 38796.40649441341 \n"
     ]
    }
   ],
   "source": [
    "# Get a list of all the folders in the directory\n",
    "dir = data_root_dir + '/dense_mass_hastings_grid/'\n",
    " \n",
    "#folder with best-fit model\n",
    "subdir = 153\n",
    "           \n",
    "m=mp.MESA()\n",
    "m.loadHistory(f = dir + str(subdir) + '/LOGS1')\n",
    "\n",
    "# ALL data column names\n",
    "print(m.hist.data.dtype.names)\n",
    "\n",
    "# We adopt the first moment that X drops below 0.74 as ZAMS\n",
    "def find_ZAMS(data):\n",
    "    return next((i for i, x in enumerate(data) if x < 0.735), None)\n",
    "\n",
    "ZAMS_i = find_ZAMS(m.hist.center_h1)\n",
    "print(f'ZAMS age = {m.hist.star_age[ZAMS_i]} ')\n",
    "\n",
    "# We adopt the time when center_he4 is 0.99 as the end of the MS\n",
    "def find_end_of_MS(data):\n",
    "    return next((i for i, x in enumerate(data) if x > 0.99), None)\n",
    "\n",
    "TAMS_i = find_end_of_MS(m.hist.center_he4)\n",
    "\n",
    "# # #plot HR diagram (to show ZAMS and TAMS makes sense)\n",
    "# plt.scatter(m.hist.log_Teff, m.hist.log_L , c =  m.hist.center_he4 )\n",
    "# plt.scatter(m.hist.log_Teff[ZAMS_i], m.hist.log_L[ZAMS_i], c='r', s = 50)\n",
    "# plt.scatter(m.hist.log_Teff[TAMS_i], m.hist.log_L[TAMS_i], c='r', s = 50)\n",
    "# plt.colorbar(label = 'center He4')\n",
    "# plt.gca().invert_xaxis() \n",
    "# plt.xlabel('log(Teff)')\n",
    "# plt.ylabel('log(L)')\n",
    "# plt.show()\n",
    "\n"
   ]
  },
  {
   "cell_type": "markdown",
   "id": "c7f782d7",
   "metadata": {},
   "source": [
    "## Hurley et al 2002 - Radiative envelopes *(Fiducial)*\n",
    "Hut radiative in MESA\n",
    "\n",
    "[Hurley et al. 2002, eq 44](https://articles.adsabs.harvard.edu/pdf/2002MNRAS.329..897H), (but timescale for synchronization was derived by [Zahn (1975)](https://articles.adsabs.harvard.edu//full/1975A%26A....41..329Z/0000331.000.html) )\n",
    "\n",
    "\\begin{equation}\n",
    "\\frac{1}{\\tau_{sync}} = 52^{5/3} \\left( \\frac{GM}{R^3} \\right)^{1/2} \\frac{MR^2}{I} q^2_2 (1 + q_2)^{5/6} E_2 \\left(\\frac{R}{a} \\right)^{17/2}\n",
    "\\end{equation}\n",
    "\n",
    "(same as [eq. 2 in de Mink et al. 2009](https://www.aanda.org/articles/aa/pdf/2009/13/aa11439-08.pdf) )\n",
    "\n",
    "\n",
    "M and R are the mass and radius of the star, and a the separation\n",
    "\n",
    "Here, $q_2 = \\frac{M_{companion}}{M_{star}}$ (=1 for us)\n",
    "\n",
    "E2 is a second-order tidal coefficient which can be fitted to values given by Zahn (1975),\n",
    "$E_2 = 1.592 \\times 10^{-9} M^{2.84} $\n",
    "\n",
    "$I \\approx (2/5) M R^2$ is the moment of inertia of the perturbed star\n",
    "\n",
    "Substituting all this we get\n",
    "\n",
    "\\begin{equation}\n",
    "\\frac{1}{\\tau_{sync}} = (5/2) \\cdot 52^{5/3} \\cdot E_2 \\cdot (GM)^{1/2} R^{7} a^{-8.5}\n",
    "\\end{equation}"
   ]
  },
  {
   "cell_type": "code",
   "execution_count": 226,
   "metadata": {},
   "outputs": [
    {
     "name": "stdout",
     "output_type": "stream",
     "text": [
      "a_ZAMS 217.21657885655745 solRad\n",
      "Synchronization timescale for best fitting model 58737.0 yr, under the assumption of radiative damping\n",
      "This is 2.0 % of the main sequence lifetime\n"
     ]
    }
   ],
   "source": [
    "# Simplified version\n",
    "def tau_sync_Hurley_rad(Mstar = 1*u.Msun, R=1*u.Rsun, a=1 *u.Rsun):\n",
    "    E_2 = (1.592*1e-9 * Mstar**2.84).value #unitless coefficient\n",
    "    grav_const = const.G.to(u.Rsun**3/u.Msun/u.year**2) # In astro units\n",
    "    \n",
    "    return 1/((5/2.) * 52**(5/3) * E_2  * (grav_const * Mstar)** 0.5 * R**7 * a**(-8.5))\n",
    "\n",
    "# For best fitting model\n",
    "a_ZAMS =  Kepler(m1 = m.hist.star_mass[ZAMS_i] * u.Msun, m2 =m.hist.star_mass[ZAMS_i] * u.Msun,\n",
    "                 P = m.hist.period_days[ZAMS_i] * u.day)\n",
    "\n",
    "print('a_ZAMS', a_ZAMS)\n",
    "\n",
    "t_sync_rad = tau_sync_Hurley_rad(m.hist.star_mass[ZAMS_i] * u.Msun, 10**m.hist.log_R[ZAMS_i] * u.Rsun, a_ZAMS)\n",
    "print(f'Synchronization timescale for best fitting model {np.round(t_sync_rad)}, under the assumption of radiative damping')\n",
    "\n",
    "# Main sequence lifetime for best fitting model\n",
    "MS_lifetime = (m.hist.star_age[TAMS_i] - m.hist.star_age[ZAMS_i] )*u.year\n",
    "\n",
    "print(f'This is {np.round(t_sync_rad/MS_lifetime, 2) *100} % of the main sequence lifetime')\n"
   ]
  },
  {
   "cell_type": "markdown",
   "metadata": {},
   "source": [
    "# Hurley et al 2002 - Convective envelopes \n",
    "## (or “turbulent viscosity” )\n",
    "Hut convective in MESA, Eq 27  in [Hurley et al. 2002](https://articles.adsabs.harvard.edu/pdf/2002MNRAS.329..897H),  \n",
    "Synchronization timescale as derived by [Zahn 1977 eg 6.1](https://articles.adsabs.harvard.edu/pdf/1977A%26A....57..383Z) :\n",
    "\n",
    "\\begin{equation}\n",
    "\\frac{1}{\\tau_{sync}} = 3\\left(\\frac{k}{t_{tide}}\\right)_c  \\frac{M R^2}{I} q_2^2 \\left(\\frac{R}{a}\\right)^6\n",
    "\\end{equation}\n",
    "\n",
    "with $t_{tide}$ the time-scale on which significant changes in the orbit take place through tidal evolution.\n",
    "\n",
    "\n",
    "Following [eq. 1 in de Mink et al. 2009](https://www.aanda.org/articles/aa/full_html/2009/13/aa11439-08/aa11439-08.html), this is can be approximated as:\n",
    "\n",
    "\\begin{equation}\n",
    "\\tau_{sync} = f_{turb}\\times q^{-2} \\left(\\frac{a}{R}\\right)^{6} yr\n",
    "\\end{equation}\n",
    "\n",
    "Where we assume that $f_{turb} \\approx 1$, because Zahn (1977) showed that this adequately explains the observed orbital period below which tides lead to synchronization due to the strong dependence of $R/a$\n",
    "\n"
   ]
  },
  {
   "cell_type": "code",
   "execution_count": 227,
   "id": "b7f1c4e7",
   "metadata": {},
   "outputs": [
    {
     "name": "stdout",
     "output_type": "stream",
     "text": [
      "Synchronization timescale for best fitting model 58737.0 yr, under the assumption of turbulent viscosity damping\n",
      "This is 0.01 % of the main sequence lifetime\n"
     ]
    }
   ],
   "source": [
    "\"\"\"\n",
    "Hurley et al 2002 from Hut\n",
    "values of k for realistic stars are 0.1-0.01, \n",
    "more centrally condensed star structure means lower k\n",
    "tau is a small lag time introduced via dissipation, \n",
    "such that the amplitude and direction of the tides are slightly changed\n",
    "t_tide = R^3/(G M tau)\n",
    "assuming spherical moment of inertia\n",
    "\"\"\"\n",
    "# def tau_hut(tau, k, M, R, a):\n",
    "#     T_timescale = np.divide(np.power(R,3), M)/const.G/tau\n",
    "#     return np.power(np.multiply(3*np.divide(k, T_timescale), \n",
    "#                                 np.power(np.divide(R, a), 6))*5/2, \n",
    "#                     -1).to(u.year) \n",
    "#     #test\n",
    "# tau_hut(1*u.second, 0.1, 1*u.Msun, 1*u.Rsun, semimajor(1*u.Msun, 1*u.year))\n",
    "\n",
    "\n",
    "#Zahn 1977\n",
    "def tau_zahn_conv(R = 1*u.Rsun, a = 1*u.Rsun, f_turb = 1.):\n",
    "    return (f_turb * (a/R)**2)*u.yr\n",
    "\n",
    "t_sync_conv = tau_zahn_conv(10**m.hist.log_R[ZAMS_i] * u.Rsun, a_ZAMS)\n",
    "\n",
    "print(f'Synchronization timescale for best fitting model {np.round(t_sync_rad)}, under the assumption of turbulent viscosity damping')\n",
    "print(f'This is {np.round(t_sync_conv/MS_lifetime, 4) *100} % of the main sequence lifetime')\n",
    "\n"
   ]
  },
  {
   "cell_type": "markdown",
   "id": "5baeb7aa",
   "metadata": {},
   "source": [
    "## Zahn 2008 - weak friction approximation Viscosity\n",
    "\n",
    "(seems very similar to Hut treatment for convective envelopes)\n",
    "\\begin{equation}\n",
    "\\frac{1}{\\tau_{sync}} = \\frac{1}{t_{diss}} \\left(\\frac{\\omega - \\Omega}{\\omega}\\right) q^2 \\frac{M R^2}{I} \\left(\\frac{R}{a}\\right)^6\n",
    "\\end{equation}\n",
    "\n",
    "\\begin{equation}\n",
    "\\tau_{sync} = t_{diss} \\left(\\frac{\\omega}{\\omega - \\Omega}\\right) q^{-2} \\frac{I}{M R^2} \\left(\\frac{a}{R}\\right)^6\n",
    "\\end{equation}\n",
    "\n",
    "where $\\omega$ is the orbital angular velocity and $\\Omega$ is the rotational angular velocity\n",
    "\n",
    "https://arxiv.org/pdf/0807.4870.pdf (eq 2.5)"
   ]
  },
  {
   "cell_type": "markdown",
   "id": "72021f02",
   "metadata": {},
   "source": []
  },
  {
   "cell_type": "code",
   "execution_count": 21,
   "id": "fa57ab66",
   "metadata": {},
   "outputs": [
    {
     "data": {
      "text/latex": [
       "$0.024948957 \\; \\mathrm{yr}$"
      ],
      "text/plain": [
       "<Quantity 0.02494896 yr>"
      ]
     },
     "execution_count": 21,
     "metadata": {},
     "output_type": "execute_result"
    }
   ],
   "source": [
    "# zahn 2008\n",
    "\n",
    "# assuming spherical moment of inertia\n",
    "def tau_zahn_visc(t_diss, P, Omega, M, R, a):\n",
    "    omega = 2*np.pi*np.power(P, -1)\n",
    "    return (t_diss*np.multiply(np.divide(omega, np.abs(omega-Omega)), \n",
    "                              2/5*np.power(np.divide(a, R), 6))).to(u.year)\n",
    "    \n",
    "    \n",
    "# test\n",
    "tau_zahn_visc(1*u.s, 1*u.year, 10/u.s, 1*u.Msun, 1*u.Rsun, Kepler(1*u.Msun, 1*u.year))"
   ]
  },
  {
   "cell_type": "markdown",
   "id": "884961b4",
   "metadata": {},
   "source": [
    "## Yoon, Woosley, Langer 2010"
   ]
  },
  {
   "cell_type": "markdown",
   "id": "0d67f4d9",
   "metadata": {},
   "source": [
    "\\begin{equation}\n",
    "\\tau_{sync} = f_{sync} \\frac{1.44\\times 10^{1.6}}{q(1+q)^{3/8}} \\left(\\frac{L_\\odot}{L}\\right)^{1/4} \\left(\\frac{M_\\odot}{M}\\right)^{1/8} \\left(\\frac{R}{R_\\odot}\\right)^{9/8} \\left(\\frac{d}{R}\\right)^{33/8} years\n",
    "\\end{equation}\n",
    "\n",
    "[YWL 2010, equation 3](https://iopscience.iop.org/article/10.1088/0004-637X/725/1/940/pdf)"
   ]
  },
  {
   "cell_type": "code",
   "execution_count": 10,
   "id": "be452531",
   "metadata": {},
   "outputs": [],
   "source": [
    "#Yoon, Woosley, Langer 2010 \n",
    "def tau_YWL2010(f_sync, L, M, R, a):\n",
    "    return f_sync/2**(3/8)*1.44*10**(1.6)*np.multiply(np.multiply(np.power(L/u.Lsun, -1/4), np.power(M/u.Msun, -1/8)), \n",
    "                                             np.multiply(np.power(R/u.Rsun, 9/8), np.power(np.divide(a,R), 33/8)))*u.year\n",
    "    \n",
    "    \n",
    "# test\n",
    "tau_YWL2010(1, 1*u.Lsun, 1*u.Msun, 1*u.Rsun, semimajor(1*u.Msun, 1*u.year))"
   ]
  },
  {
   "cell_type": "markdown",
   "metadata": {},
   "source": [
    "# Repeat exercise for all models\n"
   ]
  },
  {
   "cell_type": "code",
   "execution_count": null,
   "metadata": {},
   "outputs": [
    {
     "name": "stdout",
     "output_type": "stream",
     "text": [
      "Error for model 88\n",
      "Error for model 36\n",
      "Error for model 83\n",
      "Error for model 10\n",
      "Error for model 11\n",
      "Error for model 49\n",
      "Error for model .mesa_temp_cache\n",
      "Error for model 14\n"
     ]
    }
   ],
   "source": [
    "\n",
    "# Get a list of all the folders in the directory\n",
    "dir = data_root_dir + '/dense_mass_hastings_grid/'\n",
    "\n",
    "verbose = False\n",
    "\n",
    "radiative_sync_times = np.array([])\n",
    "MS_lifetimes = np.array([])\n",
    "for subdir in os.listdir(dir):\n",
    "    if subdir in ['photos', 'LOGS', 'LOGS1']:\n",
    "        continue\n",
    "    if os.path.isdir(os.path.join(dir, subdir)):\n",
    "        try:\n",
    "            # print(subdir)\n",
    "            m=mp.MESA()\n",
    "            m.loadHistory(f = dir + str(subdir) + '/LOGS1')\n",
    "            \n",
    "            # Find start and end of MS\n",
    "            ZAMS_i = find_ZAMS(m.hist.center_h1)\n",
    "            TAMS_i = find_end_of_MS(m.hist.center_he4)\n",
    "            if ZAMS_i is not None and TAMS_i is not None:\n",
    "                MS_lifetime = (m.hist.star_age[TAMS_i] - m.hist.star_age[ZAMS_i] )*u.year\n",
    "\n",
    "                # Separation at ZAMS\n",
    "                a_ZAMS =  Kepler(m1 = m.hist.star_mass[ZAMS_i] * u.Msun, m2 =m.hist.star_mass[ZAMS_i] * u.Msun,\n",
    "                                P = m.hist.period_days[ZAMS_i] * u.day)\n",
    "\n",
    "                # Synchronization timescale for a radiative envelope\n",
    "                t_sync_rad = tau_sync_Hurley_rad(m.hist.star_mass[ZAMS_i] * u.Msun, 10**m.hist.log_R[ZAMS_i] * u.Rsun, a_ZAMS)\n",
    "                \n",
    "                # Append to lists\n",
    "                radiative_sync_times.append(t_sync_rad.value)\n",
    "                MS_lifetimes.append(MS_lifetime.value)\n",
    "                \n",
    "                if verbose:\n",
    "                    print(f'Mzams = {m.hist.star_mass[ZAMS_i]}, Pzams =  {m.hist.period_days[ZAMS_i]}')\n",
    "                    print(f'a_ZAMS = {a_ZAMS}', ' Rzams', 10**m.hist.log_R[ZAMS_i] * u.Rsun)\n",
    "                    print(f'age ZAMS = {m.hist.star_age[ZAMS_i]} , MS lifetime = {MS_lifetime}')\n",
    "                    print(f'Synchronization timescale= {np.round(t_sync_rad)}, under the assumption of radiative damping')\n",
    "                    print(f'This is {np.round(t_sync_rad/MS_lifetime, 2) *100} % of the main sequence lifetime')\n",
    "\n",
    "                    continue\n",
    "        except:\n",
    "            print(f'Error for model {subdir}')\n",
    "        else:\n",
    "            continue\n",
    "        \n",
    "        \n"
   ]
  },
  {
   "cell_type": "code",
   "execution_count": null,
   "metadata": {},
   "outputs": [
    {
     "name": "stdout",
     "output_type": "stream",
     "text": [
      "Radiative sync times: max fraction of MS 121.89%, min fraction of MS 0.15%\n"
     ]
    },
    {
     "data": {
      "image/png": "[encoded data removed]",
      "text/plain": [
       "<Figure size 640x480 with 1 Axes>"
      ]
     },
     "metadata": {},
     "output_type": "display_data"
    }
   ],
   "source": [
    "# tsyncRad_tMS = np.array(radiative_sync_times)/np.array(MS_lifetimes) \n",
    "# print( tsyncRad_tMS)\n",
    "\n",
    "\n",
    "print(f'Radiative sync times: max fraction of MS {np.round(np.max(tsyncRad_tMS)*100, 2)}%, min fraction of MS {np.round(np.min(tsyncRad_tMS)*100,2)}%' )\n",
    "\n",
    "plt.hist(tsyncRad_tMS*100)\n",
    "plt.show()\n"
   ]
  }
 ],
 "metadata": {
  "kernelspec": {
   "display_name": "Python 3",
   "language": "python",
   "name": "python3"
  },
  "language_info": {
   "codemirror_mode": {
    "name": "ipython",
    "version": 3
   },
   "file_extension": ".py",
   "mimetype": "text/x-python",
   "name": "python",
   "nbconvert_exporter": "python",
   "pygments_lexer": "ipython3",
   "version": "3.9.15"
  }
 },
 "nbformat": 4,
 "nbformat_minor": 5
}
